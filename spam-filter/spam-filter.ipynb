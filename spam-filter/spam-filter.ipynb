{
 "cells": [
  {
   "cell_type": "markdown",
   "metadata": {},
   "source": [
    "# Spam-Ham Filter\n",
    "#### Screening Task 5\n",
    "\n",
    "**Objective:** Using the provided data set, come up with an algorithm, coded in Python to categorize the forum posts as spam or not spam.\n",
    "\n",
    "This document describes the analysis done on the provided dataset in detail.\n",
    "\n",
    "__Author__: Ashutosh Gangwar &lt;ashutoshgngwr@gmail.com&gt;"
   ]
  },
  {
   "cell_type": "code",
   "execution_count": 1,
   "metadata": {
    "scrolled": true
   },
   "outputs": [
    {
     "data": {
      "text/html": [
       "<div>\n",
       "<style scoped>\n",
       "    .dataframe tbody tr th:only-of-type {\n",
       "        vertical-align: middle;\n",
       "    }\n",
       "\n",
       "    .dataframe tbody tr th {\n",
       "        vertical-align: top;\n",
       "    }\n",
       "\n",
       "    .dataframe thead th {\n",
       "        text-align: right;\n",
       "    }\n",
       "</style>\n",
       "<table border=\"1\" class=\"dataframe\">\n",
       "  <thead>\n",
       "    <tr style=\"text-align: right;\">\n",
       "      <th></th>\n",
       "      <th>Data</th>\n",
       "      <th>Label</th>\n",
       "    </tr>\n",
       "  </thead>\n",
       "  <tbody>\n",
       "    <tr>\n",
       "      <th>530</th>\n",
       "      <td>If I am interpreting your question correctly, ...</td>\n",
       "      <td>Not Spam</td>\n",
       "    </tr>\n",
       "    <tr>\n",
       "      <th>77</th>\n",
       "      <td>Hi,&lt;div&gt;&lt;br&gt;&lt;/div&gt;&lt;div&gt;While installing eSim s...</td>\n",
       "      <td>Not Spam</td>\n",
       "    </tr>\n",
       "    <tr>\n",
       "      <th>130</th>\n",
       "      <td>&lt;p style=\"margin-bottom: 0px;\"&gt;es) (part ac))&lt;...</td>\n",
       "      <td>Not Spam</td>\n",
       "    </tr>\n",
       "    <tr>\n",
       "      <th>129</th>\n",
       "      <td>Dear Ankush,&lt;br&gt;&lt;br&gt;Please make sure the sourc...</td>\n",
       "      <td>Not Spam</td>\n",
       "    </tr>\n",
       "    <tr>\n",
       "      <th>216</th>\n",
       "      <td>NaN</td>\n",
       "      <td>NaN</td>\n",
       "    </tr>\n",
       "    <tr>\n",
       "      <th>277</th>\n",
       "      <td>Please look at the following links-\\n\\nhttps:/...</td>\n",
       "      <td>Not Spam</td>\n",
       "    </tr>\n",
       "    <tr>\n",
       "      <th>648</th>\n",
       "      <td>Hello Sir,&lt;br&gt;The screencast taken by kazam is...</td>\n",
       "      <td>Not Spam</td>\n",
       "    </tr>\n",
       "    <tr>\n",
       "      <th>286</th>\n",
       "      <td>We will delete this question. We will have to ...</td>\n",
       "      <td>Not Spam</td>\n",
       "    </tr>\n",
       "    <tr>\n",
       "      <th>406</th>\n",
       "      <td>Hi leohpaz, can you provide the values of k(i)...</td>\n",
       "      <td>Not Spam</td>\n",
       "    </tr>\n",
       "  </tbody>\n",
       "</table>\n",
       "</div>"
      ],
      "text/plain": [
       "                                                  Data     Label\n",
       "530  If I am interpreting your question correctly, ...  Not Spam\n",
       "77   Hi,<div><br></div><div>While installing eSim s...  Not Spam\n",
       "130  <p style=\"margin-bottom: 0px;\">es) (part ac))<...  Not Spam\n",
       "129  Dear Ankush,<br><br>Please make sure the sourc...  Not Spam\n",
       "216                                                NaN       NaN\n",
       "277  Please look at the following links-\\n\\nhttps:/...  Not Spam\n",
       "648  Hello Sir,<br>The screencast taken by kazam is...  Not Spam\n",
       "286  We will delete this question. We will have to ...  Not Spam\n",
       "406  Hi leohpaz, can you provide the values of k(i)...  Not Spam"
      ]
     },
     "execution_count": 1,
     "metadata": {},
     "output_type": "execute_result"
    }
   ],
   "source": [
    "import pandas\n",
    "dataset = pandas.read_excel('./Data Set.xlsx', 'Data set')\n",
    "dataset.sample(frac=0.01)"
   ]
  },
  {
   "cell_type": "markdown",
   "metadata": {},
   "source": [
    "## Cleaning the dataset\n",
    "\n",
    "On visually inspecting the given dataset, one can spot following _irrelavant features_\n",
    "* HTML Tags in datapoints\n",
    "* Datapoints that only contain HTML Tags without any valid content\n",
    "* Empty and/or NaN cells/rows\n",
    "\n",
    "To remove HTML tags, regular expressions can be utilized. Further more, links in `<a>` & `<img>` tags can be preserved to be utilized as features in classification of spams and hams. \n",
    "\n",
    "We also exploit this iteration by replacing Labels for each datapoint with corresponding integer values (0 for Ham, 1 for Spam).\n",
    "\n",
    "To remove rows with empty cells, all `''` are replaced with `NaN`'s value from `numpy` and then `dataframe`'s `dropna()` function is used to remove all `NaN`s altogether."
   ]
  },
  {
   "cell_type": "code",
   "execution_count": 2,
   "metadata": {},
   "outputs": [
    {
     "data": {
      "text/html": [
       "<div>\n",
       "<style scoped>\n",
       "    .dataframe tbody tr th:only-of-type {\n",
       "        vertical-align: middle;\n",
       "    }\n",
       "\n",
       "    .dataframe tbody tr th {\n",
       "        vertical-align: top;\n",
       "    }\n",
       "\n",
       "    .dataframe thead th {\n",
       "        text-align: right;\n",
       "    }\n",
       "</style>\n",
       "<table border=\"1\" class=\"dataframe\">\n",
       "  <thead>\n",
       "    <tr style=\"text-align: right;\">\n",
       "      <th></th>\n",
       "      <th>Data</th>\n",
       "      <th>Label</th>\n",
       "    </tr>\n",
       "  </thead>\n",
       "  <tbody>\n",
       "    <tr>\n",
       "      <th>91</th>\n",
       "      <td>Hii,    You have given wrong Reference and fie...</td>\n",
       "      <td>0</td>\n",
       "    </tr>\n",
       "    <tr>\n",
       "      <th>562</th>\n",
       "      <td>I don't know where you get your figures. Talk ...</td>\n",
       "      <td>1</td>\n",
       "    </tr>\n",
       "    <tr>\n",
       "      <th>107</th>\n",
       "      <td>Hi,  Please go through the link&amp;nbsp; http://e...</td>\n",
       "      <td>0</td>\n",
       "    </tr>\n",
       "    <tr>\n",
       "      <th>401</th>\n",
       "      <td>It would be better to convert it into eSim cod...</td>\n",
       "      <td>0</td>\n",
       "    </tr>\n",
       "    <tr>\n",
       "      <th>183</th>\n",
       "      <td>1. In the flow sheet panel, drag and use the\"E...</td>\n",
       "      <td>0</td>\n",
       "    </tr>\n",
       "    <tr>\n",
       "      <th>169</th>\n",
       "      <td>Hi, Merci pour votre r\\xe9ponse. Maintenant la...</td>\n",
       "      <td>0</td>\n",
       "    </tr>\n",
       "    <tr>\n",
       "      <th>44</th>\n",
       "      <td>Flashplayer doesn't work on ARM Linux devices....</td>\n",
       "      <td>0</td>\n",
       "    </tr>\n",
       "    <tr>\n",
       "      <th>154</th>\n",
       "      <td>Hi KVK,&amp;nbsp;    Try couple things     1. Keep...</td>\n",
       "      <td>0</td>\n",
       "    </tr>\n",
       "    <tr>\n",
       "      <th>775</th>\n",
       "      <td>how can I simulate velocity and temperature pr...</td>\n",
       "      <td>0</td>\n",
       "    </tr>\n",
       "  </tbody>\n",
       "</table>\n",
       "</div>"
      ],
      "text/plain": [
       "                                                  Data Label\n",
       "91   Hii,    You have given wrong Reference and fie...     0\n",
       "562  I don't know where you get your figures. Talk ...     1\n",
       "107  Hi,  Please go through the link&nbsp; http://e...     0\n",
       "401  It would be better to convert it into eSim cod...     0\n",
       "183  1. In the flow sheet panel, drag and use the\"E...     0\n",
       "169  Hi, Merci pour votre r\\xe9ponse. Maintenant la...     0\n",
       "44   Flashplayer doesn't work on ARM Linux devices....     0\n",
       "154  Hi KVK,&nbsp;    Try couple things     1. Keep...     0\n",
       "775  how can I simulate velocity and temperature pr...     0"
      ]
     },
     "execution_count": 2,
     "metadata": {},
     "output_type": "execute_result"
    }
   ],
   "source": [
    "import re\n",
    "import numpy as np\n",
    "\n",
    "rgx_img_anch_tags = re.compile('(<a href|<img src)=(\\\"|\\')(.*?)(\\\"|\\').*?>')\n",
    "rgx_other_html_tags = re.compile('<.*?>')\n",
    "\n",
    "for i in range(0, dataset.shape[0]):\n",
    "    if dataset.Data[i] is np.nan:\n",
    "        continue # no need to process null values.\n",
    "        \n",
    "    dataset.Data[i] = str(dataset.Data[i])\n",
    "    # replace a & img tags with their URL\n",
    "    dataset.Data[i] = rgx_img_anch_tags.sub(r' \\3 ', dataset.Data[i])\n",
    "    # remove all remaining html tags\n",
    "    dataset.Data[i] = rgx_other_html_tags.sub(' ', dataset.Data[i])\n",
    "    # remove extra spaces\n",
    "    dataset.Data[i] = dataset.Data[i].strip()\n",
    "\n",
    "    # change data Label 0 for ham (not spam) | 1 for spam\n",
    "    if dataset.Label[i] == 'Spam':\n",
    "        dataset.Label[i] = 1\n",
    "    elif dataset.Label[i] == 'Not Spam':\n",
    "        dataset.Label[i] = 0\n",
    "\n",
    "# replace all empty rows with `NaN`\n",
    "dataset['Data'].replace('', np.nan, inplace = True)\n",
    "dataset = dataset.dropna() # drop all the rows with NaN values\n",
    "dataset.sample(frac=0.01)"
   ]
  },
  {
   "cell_type": "markdown",
   "metadata": {},
   "source": [
    "## Preprocessing\n",
    "### Splitting\n",
    "In order analyse various models for given dataset, it should be split into two sets, i.e., training & testing.\n",
    "Lets use 80% data for training and consider the rest for testing."
   ]
  },
  {
   "cell_type": "code",
   "execution_count": 3,
   "metadata": {},
   "outputs": [],
   "source": [
    "from sklearn.model_selection import train_test_split\n",
    "\n",
    "trainX, testX, trainY, testY = train_test_split(dataset.Data,\n",
    "                                                dataset.Label.astype(int),\n",
    "                                                test_size = 0.2,\n",
    "                                                random_state = 3)"
   ]
  },
  {
   "cell_type": "markdown",
   "metadata": {},
   "source": [
    "### Transforming text to vector\n",
    "To make training and testing possible, transformation of data to a vector is necessary. A transformation to _term-frequency-inverse-document-frequency vector_ is done here. Other options include _word-frequency vector_, etc."
   ]
  },
  {
   "cell_type": "code",
   "execution_count": 4,
   "metadata": {},
   "outputs": [],
   "source": [
    "from sklearn.feature_extraction.text import TfidfVectorizer\n",
    "\n",
    "tfidf_vect = TfidfVectorizer(stop_words = 'english')\n",
    "trainX = tfidf_vect.fit_transform(trainX)\n",
    "testX = tfidf_vect.transform(testX)"
   ]
  },
  {
   "cell_type": "markdown",
   "metadata": {},
   "source": [
    "## Classification\n",
    "Now that the dataset is ready to be used by various classification models, various models are trained to analyse which one gives maximum accuracy (precision) for the given dataset.\n",
    "\n",
    "#### Why precision and not recall?\n",
    "__Precision__, in this case, denotes precentage/fraction of datapoints correctly classified as spams over total datapoints classified as spams while __recall__ denotes percentage of datapoints correctly classified as spams over total datapoints that were spams.\n",
    "\n",
    "Since, it is important __not__ to classify hams as spams and also, it would be okay to classify a __few__ spams as hams, we need a model with maximum precision while keeping recall optimal.\n",
    "\n",
    "For rating a classifier based on our dataset, following parameters can be utilized\n",
    "1. Precision - _should be high_\n",
    "2. Recall - _should be optimal_\n",
    "3. F1 Score - _should be high_\n",
    "4. Confusion Matrix - _False positives should be low_"
   ]
  },
  {
   "cell_type": "code",
   "execution_count": 5,
   "metadata": {},
   "outputs": [],
   "source": [
    "# import various parameters to be used for analysing classifiers\n",
    "from sklearn.metrics import confusion_matrix\n",
    "from sklearn.metrics import f1_score, precision_score, recall_score\n",
    "\n",
    "# function to print average precision, average recall and confusion matrix\n",
    "def print_scores(predictedY):\n",
    "    print(\"Precision: {}\".format(precision_score(testY, predictedY)))\n",
    "    print(\"Recall: {}\".format(recall_score(testY, predictedY)))\n",
    "    print(\"F1: {}\".format(f1_score(testY, predictedY, average = 'binary')))\n",
    "    print(\"Confusion matrix:\")\n",
    "    print(confusion_matrix(testY, predictedY))\n",
    "\n",
    "# ignore warnings produced by sklearn when 0 is divided by 0\n",
    "import warnings\n",
    "from sklearn.exceptions import UndefinedMetricWarning\n",
    "\n",
    "warnings.filterwarnings(\"ignore\", category = UndefinedMetricWarning)"
   ]
  },
  {
   "cell_type": "markdown",
   "metadata": {},
   "source": [
    "### Naive Bayes Classifier"
   ]
  },
  {
   "cell_type": "code",
   "execution_count": 6,
   "metadata": {},
   "outputs": [
    {
     "name": "stdout",
     "output_type": "stream",
     "text": [
      "Precision: 0.0\n",
      "Recall: 0.0\n",
      "F1: 0.0\n",
      "Confusion matrix:\n",
      "[[173   0]\n",
      " [ 11   0]]\n"
     ]
    }
   ],
   "source": [
    "from sklearn.naive_bayes import MultinomialNB\n",
    "\n",
    "nb_clf = MultinomialNB()\n",
    "nb_clf.fit(trainX, trainY)\n",
    "predictedY = nb_clf.predict(testX)\n",
    "print_scores(predictedY)"
   ]
  },
  {
   "cell_type": "markdown",
   "metadata": {},
   "source": [
    "### Random Forest Classifier"
   ]
  },
  {
   "cell_type": "code",
   "execution_count": 7,
   "metadata": {},
   "outputs": [
    {
     "name": "stdout",
     "output_type": "stream",
     "text": [
      "Precision: 1.0\n",
      "Recall: 0.36363636363636365\n",
      "F1: 0.5333333333333333\n",
      "Confusion matrix:\n",
      "[[173   0]\n",
      " [  7   4]]\n"
     ]
    }
   ],
   "source": [
    "from sklearn.ensemble import RandomForestClassifier\n",
    "\n",
    "rf_clf = RandomForestClassifier(criterion = 'entropy',\n",
    "                                random_state = 3, n_jobs = -1)\n",
    "rf_clf.fit(trainX, trainY)\n",
    "predictedY = rf_clf.predict(testX)\n",
    "print_scores(predictedY)"
   ]
  },
  {
   "cell_type": "markdown",
   "metadata": {},
   "source": [
    "### Linear Support Vector Classifier"
   ]
  },
  {
   "cell_type": "code",
   "execution_count": 8,
   "metadata": {},
   "outputs": [
    {
     "name": "stdout",
     "output_type": "stream",
     "text": [
      "Precision: 1.0\n",
      "Recall: 0.6363636363636364\n",
      "F1: 0.7777777777777778\n",
      "Confusion matrix:\n",
      "[[173   0]\n",
      " [  4   7]]\n"
     ]
    }
   ],
   "source": [
    "from sklearn.svm import LinearSVC\n",
    "\n",
    "svc_clf = LinearSVC()\n",
    "svc_clf.fit(trainX, trainY)\n",
    "predictedY = svc_clf.predict(testX)\n",
    "print_scores(predictedY)"
   ]
  },
  {
   "cell_type": "markdown",
   "metadata": {},
   "source": [
    "### Stochastic Gradient Descent Classifier"
   ]
  },
  {
   "cell_type": "code",
   "execution_count": 9,
   "metadata": {},
   "outputs": [
    {
     "name": "stdout",
     "output_type": "stream",
     "text": [
      "Precision: 1.0\n",
      "Recall: 0.45454545454545453\n",
      "F1: 0.625\n",
      "Confusion matrix:\n",
      "[[173   0]\n",
      " [  6   5]]\n"
     ]
    }
   ],
   "source": [
    "from sklearn.linear_model import SGDClassifier\n",
    "\n",
    "sgd_clf = SGDClassifier(loss='log', max_iter = 10, random_state = 3)\n",
    "sgd_clf.fit(trainX, trainY)\n",
    "predictedY = sgd_clf.predict(testX)\n",
    "print_scores(predictedY)"
   ]
  },
  {
   "cell_type": "markdown",
   "metadata": {},
   "source": [
    "## Parameter Tuning\n",
    "Further more, we can extend our analysis on all classifiers by tuning their parameters to improve their overall F1 Score. Later, we can plot precision-recall tradeoff for tuning their precision and recall by adjusting _threshold_."
   ]
  },
  {
   "cell_type": "code",
   "execution_count": 10,
   "metadata": {},
   "outputs": [],
   "source": [
    "# import GridSearchCV, a tool provided in sklearn for tuning parameters\n",
    "from sklearn.model_selection import GridSearchCV\n",
    "\n",
    "# function to look for best parameters in the given grid\n",
    "def search_grid(grid_clf):\n",
    "    grid_clf.fit(trainX, trainY)\n",
    "    print(\"Best parameters:\")\n",
    "    print(grid_clf.best_params_)\n",
    "    predictedY = grid_clf.predict(testX)\n",
    "    print_scores(predictedY)"
   ]
  },
  {
   "cell_type": "markdown",
   "metadata": {},
   "source": [
    "### 1. Naive Bayes Classifier\n",
    "Laplace smoothing parameter `alpha` can be tuned to get better results."
   ]
  },
  {
   "cell_type": "code",
   "execution_count": 11,
   "metadata": {},
   "outputs": [
    {
     "name": "stdout",
     "output_type": "stream",
     "text": [
      "Best parameters:\n",
      "{'alpha': 0.001}\n",
      "Precision: 1.0\n",
      "Recall: 0.45454545454545453\n",
      "F1: 0.625\n",
      "Confusion matrix:\n",
      "[[173   0]\n",
      " [  6   5]]\n"
     ]
    }
   ],
   "source": [
    "alphas = [1e-7, 1e-6, 1e-5, 1e-4, 1e-3, 1e-2, 1e-1, 1e0]\n",
    "grid_clf = GridSearchCV(nb_clf, param_grid = {'alpha': alphas}, scoring='f1')\n",
    "search_grid(grid_clf)\n",
    "nb_clf = grid_clf.best_estimator_"
   ]
  },
  {
   "cell_type": "markdown",
   "metadata": {},
   "source": [
    "### 2. Random Forest Classifier\n",
    "A few important parameters to tune in Random Forest\n",
    "1. __n_estimators__ : no. of decision trees in the forest\n",
    "2. __min_samples_split__ : minimum samples required to split a node\n",
    "3. __min_samples_leaf__ : minimum samples required to be at a leaf"
   ]
  },
  {
   "cell_type": "code",
   "execution_count": 12,
   "metadata": {},
   "outputs": [
    {
     "name": "stdout",
     "output_type": "stream",
     "text": [
      "Best parameters:\n",
      "{'min_samples_leaf': 2, 'min_samples_split': 2, 'n_estimators': 5, 'n_jobs': -1}\n",
      "Precision: 1.0\n",
      "Recall: 0.2727272727272727\n",
      "F1: 0.42857142857142855\n",
      "Confusion matrix:\n",
      "[[173   0]\n",
      " [  8   3]]\n"
     ]
    }
   ],
   "source": [
    "param_grid_ = {\n",
    "    'n_estimators': [5, 10],\n",
    "    'min_samples_split': [2, 3],\n",
    "    'min_samples_leaf': [2, 3],\n",
    "    'n_jobs': [-1]\n",
    "}\n",
    "grid_clf = GridSearchCV(rf_clf, param_grid = param_grid_, scoring = 'f1')\n",
    "search_grid(grid_clf)\n",
    "rf_clf = grid_clf.best_estimator_"
   ]
  },
  {
   "cell_type": "markdown",
   "metadata": {},
   "source": [
    "### 3. Linear Support Vector Classifier\n",
    "In support vector classification using linear kernel, only Penalty parameter, `C`, might need tuning."
   ]
  },
  {
   "cell_type": "code",
   "execution_count": 13,
   "metadata": {},
   "outputs": [
    {
     "name": "stdout",
     "output_type": "stream",
     "text": [
      "Best parameters:\n",
      "{'C': 1.0}\n",
      "Precision: 1.0\n",
      "Recall: 0.6363636363636364\n",
      "F1: 0.7777777777777778\n",
      "Confusion matrix:\n",
      "[[173   0]\n",
      " [  4   7]]\n"
     ]
    }
   ],
   "source": [
    "Cs = [1e-7, 1e-6, 1e-5, 1e-4, 1e-3, 1e-2, 1e-1, 1e0]\n",
    "grid_clf = GridSearchCV(svc_clf, param_grid = {'C': Cs}, scoring = 'f1')\n",
    "search_grid(grid_clf)\n",
    "svc_clf = grid_clf.best_estimator_"
   ]
  },
  {
   "cell_type": "markdown",
   "metadata": {},
   "source": [
    "### 4. Stochastic Gradient Descent Classifier\n",
    "Following important parameters can tuned\n",
    "1. __alpha__: constant that multiplies the regularization term\n",
    "2. __max_iter__: max. iterations over training data\n",
    "3. __penalty__: regularization term to be used\n"
   ]
  },
  {
   "cell_type": "code",
   "execution_count": 14,
   "metadata": {},
   "outputs": [
    {
     "name": "stdout",
     "output_type": "stream",
     "text": [
      "Best parameters:\n",
      "{'alpha': 1e-07, 'max_iter': 10, 'n_jobs': -1, 'penalty': 'l2'}\n",
      "Precision: 0.8181818181818182\n",
      "Recall: 0.8181818181818182\n",
      "F1: 0.8181818181818182\n",
      "Confusion matrix:\n",
      "[[171   2]\n",
      " [  2   9]]\n"
     ]
    }
   ],
   "source": [
    "param_grid_ = {\n",
    "    'alpha': [1e-7, 1e-6, 1e-5, 1e-4, 1e-3, 1e-2, 1e-1, 1e0],\n",
    "    'penalty': ['l2', 'l1'],\n",
    "    'max_iter': [5, 10, 20],\n",
    "    'n_jobs': [-1]\n",
    "}\n",
    "\n",
    "grid_clf = GridSearchCV(sgd_clf, param_grid = param_grid_, scoring = 'f1')\n",
    "search_grid(grid_clf)\n",
    "sgd_clf = grid_clf.best_estimator_"
   ]
  },
  {
   "cell_type": "markdown",
   "metadata": {},
   "source": [
    "On analysing the results obtained after _parameter tuning_, a small improvement in overall `F1` scores can be observed for all models."
   ]
  },
  {
   "cell_type": "markdown",
   "metadata": {},
   "source": [
    "## Precision-Recall vs Thresold\n",
    "To further improve accuracy of trained of models, we can plot a _precision-recall_ vs _thresold_ to determine a thresold value for which the model produces high precision and optimal recall.\n",
    "\n",
    "Since only two models gave promising results after _parameter tuning_, Naive Bayes & Random Forest Classifiers can be left out due to low score."
   ]
  },
  {
   "cell_type": "code",
   "execution_count": 15,
   "metadata": {},
   "outputs": [],
   "source": [
    "from sklearn.metrics import precision_recall_curve\n",
    "from matplotlib import pyplot\n",
    "\n",
    "# function to plot threshold vs precision-recall\n",
    "def plot_precision_recall_tradeoff(decision_values):\n",
    "    prcs, recs, ths = precision_recall_curve(testY, decision_values)\n",
    "    pyplot.figure(figsize=(8, 5))\n",
    "    pyplot.plot(ths, prcs[:-1], \"b-\", label=\"Precision\", linewidth=1)\n",
    "    pyplot.plot(ths, recs[:-1], \"r--\", label=\"Recall\", linewidth=1)\n",
    "    pyplot.xlabel(\"Threshold\", fontsize=13)\n",
    "    pyplot.legend(loc=\"upper right\", fontsize=13)\n",
    "    pyplot.ylim([0, 1])\n",
    "    pyplot.xlim([min(ths) - 1, max(ths) + 1])"
   ]
  },
  {
   "cell_type": "markdown",
   "metadata": {},
   "source": [
    "### Linear Support Vector Classifier"
   ]
  },
  {
   "cell_type": "code",
   "execution_count": 16,
   "metadata": {
    "scrolled": true
   },
   "outputs": [
    {
     "data": {
      "image/png": "[encoded data removed]",
      "text/plain": [
       "<matplotlib.figure.Figure at 0x7f6318099860>"
      ]
     },
     "metadata": {},
     "output_type": "display_data"
    }
   ],
   "source": [
    "svc_scoreY = svc_clf.decision_function(testX)\n",
    "plot_precision_recall_tradeoff(svc_scoreY)"
   ]
  },
  {
   "cell_type": "markdown",
   "metadata": {},
   "source": [
    "As seen in the above plot, if the threshold value is set near $-0.3$, we get _maximum precision without losing recall_."
   ]
  },
  {
   "cell_type": "code",
   "execution_count": 17,
   "metadata": {
    "scrolled": true
   },
   "outputs": [
    {
     "name": "stdout",
     "output_type": "stream",
     "text": [
      "Precision: 1.0\n",
      "Recall: 0.9090909090909091\n",
      "F1: 0.9523809523809523\n",
      "Confusion matrix:\n",
      "[[173   0]\n",
      " [  1  10]]\n"
     ]
    }
   ],
   "source": [
    "predictedY = (svc_scoreY > -0.3)\n",
    "print_scores(predictedY)"
   ]
  },
  {
   "cell_type": "markdown",
   "metadata": {},
   "source": [
    "As observed in above data, the accuracy of Linear SVC classifier has reached its maximum while the recall is optimal."
   ]
  },
  {
   "cell_type": "markdown",
   "metadata": {},
   "source": [
    "### Stochastic Gradient Descent Classifier"
   ]
  },
  {
   "cell_type": "code",
   "execution_count": 18,
   "metadata": {},
   "outputs": [
    {
     "data": {
      "image/png": "[encoded data removed]",
      "text/plain": [
       "<matplotlib.figure.Figure at 0x7f63557d8c50>"
      ]
     },
     "metadata": {},
     "output_type": "display_data"
    }
   ],
   "source": [
    "sgd_scoreY = sgd_clf.decision_function(testX)\n",
    "plot_precision_recall_tradeoff(sgd_scoreY)"
   ]
  },
  {
   "cell_type": "markdown",
   "metadata": {},
   "source": [
    "As seen in the above plot, if the threshold value is set near $0.3$, we get _maximum precision without losing recall_."
   ]
  },
  {
   "cell_type": "code",
   "execution_count": 19,
   "metadata": {
    "scrolled": true
   },
   "outputs": [
    {
     "name": "stdout",
     "output_type": "stream",
     "text": [
      "Precision: 0.9\n",
      "Recall: 0.8181818181818182\n",
      "F1: 0.8571428571428572\n",
      "Confusion matrix:\n",
      "[[172   1]\n",
      " [  2   9]]\n"
     ]
    }
   ],
   "source": [
    "predictedY = (sgd_scoreY > 0.3)\n",
    "print_scores(predictedY)"
   ]
  },
  {
   "cell_type": "markdown",
   "metadata": {},
   "source": [
    "As observed in above data, the accuracy of SGD classifier couldn't be any higher for any value of _threshold_ in the given range, without losing recall."
   ]
  },
  {
   "cell_type": "markdown",
   "metadata": {},
   "source": [
    "## Conclusion\n",
    "\n",
    "__Linear Support Vector Classifier__ performed better than all four classifiers chosen in the above analysis.\n",
    "\n",
    "__Various scores achieved:__\n",
    "1. __Precision__: $1.0$\n",
    "2. __Recall__: $0.91$\n",
    "3. __F1 Score__: $0.95$\n",
    "4. __Confusion Matrix__: $\\quad \\begin{bmatrix} 173 & 0 \\\\ 1 & 10 \\end{bmatrix} \\quad$"
   ]
  },
  {
   "cell_type": "markdown",
   "metadata": {},
   "source": [
    "### Sources\n",
    "\n",
    "1. hackernoon.com (https://hackernoon.com/how-to-build-a-simple-spam-detecting-machine-learning-classifier-4471fe6b816e)\n",
    "2. Scikit Learn official documentation (http://scikit-learn.org/stable/documentation.html)\n",
    "3. Wikipedia - Binary classification (https://en.wikipedia.org/wiki/Binary_classification))\n",
    "4. Hands on Machine Learning notes (https://github.com/ageron/handson-ml/blob/master/03_classification.ipynb)\n",
    "5. matplotlib Pyplot documentation (https://matplotlib.org/users/pyplot_tutorial.html)\n",
    "6. pandas documentation (https://pandas.pydata.org/pandas-docs/stable/)"
   ]
  }
 ],
 "metadata": {
  "kernelspec": {
   "display_name": "Python 3",
   "language": "python",
   "name": "python3"
  },
  "language_info": {
   "codemirror_mode": {
    "name": "ipython",
    "version": 3
   },
   "file_extension": ".py",
   "mimetype": "text/x-python",
   "name": "python",
   "nbconvert_exporter": "python",
   "pygments_lexer": "ipython3",
   "version": "3.6.4"
  }
 },
 "nbformat": 4,
 "nbformat_minor": 2
}
